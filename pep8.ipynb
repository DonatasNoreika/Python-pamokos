{
  "nbformat": 4,
  "nbformat_minor": 0,
  "metadata": {
    "colab": {
      "name": "pep8",
      "provenance": [],
      "collapsed_sections": []
    },
    "kernelspec": {
      "name": "python3",
      "display_name": "Python 3"
    }
  },
  "cells": [
    {
      "cell_type": "markdown",
      "metadata": {
        "id": "kE8FPjxZcI2j",
        "colab_type": "text"
      },
      "source": [
        "PEP8 - tai sutartos Python kodo rašymo taisyklės. Dažnai jų reikalaujama laikytis dirbant įmonėje. Taip pat, jų laikantis, kodas yra labiau įskaitomas kitiems programuotojams bei sau. Visas PEP8 taisykles galime pasiskaityti [ČIA](https://www.python.org/dev/peps/pep-0008/)."
      ]
    },
    {
      "cell_type": "markdown",
      "metadata": {
        "id": "PLtWEG12gq5L",
        "colab_type": "text"
      },
      "source": [
        "**Svarbiausi akcentai:**"
      ]
    },
    {
      "cell_type": "markdown",
      "metadata": {
        "id": "vC-K1rwlg9ol",
        "colab_type": "text"
      },
      "source": [
        "**Kintamieji** rašomi visomis mažosiomis raidėmis, žodžiai atskiriami pabraukimais. Svarbu, kad pagal kintamojo pavadinimą būtų aišku, kas jame saugoma, todėl pavadinimą \"a\", \"b\", \"x\" geriau vengti."
      ]
    },
    {
      "cell_type": "code",
      "metadata": {
        "id": "trPpU0CchIW2",
        "colab_type": "code",
        "outputId": "feeba733-723f-4e26-d6dc-13c59f50edc1",
        "colab": {
          "base_uri": "https://localhost:8080/",
          "height": 34
        }
      },
      "source": [
        "mano_vardas = \"Tomas\"\n",
        "skaicius_12 = 12\n",
        "\n",
        "print(mano_vardas, skaicius_12)"
      ],
      "execution_count": 0,
      "outputs": [
        {
          "output_type": "stream",
          "text": [
            "Tomas 12\n"
          ],
          "name": "stdout"
        }
      ]
    },
    {
      "cell_type": "markdown",
      "metadata": {
        "id": "gKAyDoBMhbFP",
        "colab_type": "text"
      },
      "source": [
        "**Funkcijų** pavadinimai taip pat rašomi visomis mažosiomis raidėmis, žodžiai atskiriami pabraukimais. Pavadinimas taip pat turėtų kuo geriau atskleisti funkcijos paskirti, todėl galimas ir ilgesnis pavadinimas. Funkcijos argumentai vadinami taip pat, kaip įprasti kintamieji. Privatiems kintamiesiems galioja tos pačios taisyklės, tik pradžioje pridedama _, pvz. _splaptas_kintamasis:"
      ]
    },
    {
      "cell_type": "code",
      "metadata": {
        "id": "BnNhODhPhgFZ",
        "colab_type": "code",
        "outputId": "7df9ac17-96e1-4a02-8b84-056b2c54018a",
        "colab": {
          "base_uri": "https://localhost:8080/",
          "height": 51
        }
      },
      "source": [
        "def pakelti_kvadratu(skaicius):\n",
        "  return skaicius**2\n",
        "\n",
        "def gauti_norimo_ilgio_sarasa(ilgis):\n",
        "  return list(x for x in range(ilgis))\n",
        "\n",
        "print(pakelti_kvadratu(4))\n",
        "print(gauti_norimo_ilgio_sarasa(8))"
      ],
      "execution_count": 0,
      "outputs": [
        {
          "output_type": "stream",
          "text": [
            "16\n",
            "[0, 1, 2, 3, 4, 5, 6, 7]\n"
          ],
          "name": "stdout"
        }
      ]
    },
    {
      "cell_type": "markdown",
      "metadata": {
        "id": "W0-wSZXniytx",
        "colab_type": "text"
      },
      "source": [
        "**Konstantos** rašomos didžiosiomis raidėmis, žodžius atskiriant pabraukimais:"
      ]
    },
    {
      "cell_type": "code",
      "metadata": {
        "id": "TLt2BabckBcR",
        "colab_type": "code",
        "outputId": "d90b9de2-82d5-4f60-b9bc-2a8b4aaee80b",
        "colab": {
          "base_uri": "https://localhost:8080/",
          "height": 34
        }
      },
      "source": [
        "PI = 3.14\n",
        "AKTORIAI = [\"Brad Pitt\", \"Leonardo Di Caprio\", \"Margot Robbie\"]\n",
        "\n",
        "print(PI, AKTORIAI)"
      ],
      "execution_count": 0,
      "outputs": [
        {
          "output_type": "stream",
          "text": [
            "3.14 ['Brad Pitt', 'Leonardo Di Caprio', 'Margot Robbie']\n"
          ],
          "name": "stdout"
        }
      ]
    },
    {
      "cell_type": "markdown",
      "metadata": {
        "id": "WRTb6Dlfkotf",
        "colab_type": "text"
      },
      "source": [
        "**Klasių** pavadinime kiekvienas žodis pradedamas didžiąja raide, tarpai neatskiriami. Pavadinimas turi atpindėti objektą, kurį klasė aprašo. Tarp metodų ir tarp klasių turėtų būti 2 eilučių tarpas:"
      ]
    },
    {
      "cell_type": "code",
      "metadata": {
        "id": "Ob0HVOnZk0xr",
        "colab_type": "code",
        "outputId": "faaa8dd8-705e-4b1e-a4f7-c9b5231c11e8",
        "colab": {
          "base_uri": "https://localhost:8080/",
          "height": 34
        }
      },
      "source": [
        "class Zmogus:\n",
        "  def __init__(self, vardas):\n",
        "    self.vardas = vardas\n",
        "\n",
        "\n",
        "class ZmogusVoras(Zmogus):\n",
        "  def __init__(self, vardas, kojos):\n",
        "    self.vardas = vardas\n",
        "    self.kojos = kojos\n",
        "\n",
        "\n",
        "zmogus = ZmogusVoras(\"Jonas\", 8)\n",
        "print(zmogus.vardas)"
      ],
      "execution_count": 0,
      "outputs": [
        {
          "output_type": "stream",
          "text": [
            "Jonas\n"
          ],
          "name": "stdout"
        }
      ]
    },
    {
      "cell_type": "markdown",
      "metadata": {
        "id": "ye-AdeW8o48d",
        "colab_type": "text"
      },
      "source": [
        "Kiekvieno Python failo pabaigoje turi būti pradėta tuščia eilutė."
      ]
    },
    {
      "cell_type": "markdown",
      "metadata": {
        "id": "E0qDxxgHc-J9",
        "colab_type": "text"
      },
      "source": [
        "**Kaip patikrinti, ar kodas atitinka PEP8 taisykles:**"
      ]
    },
    {
      "cell_type": "markdown",
      "metadata": {
        "id": "HY7Imw8gdc8Z",
        "colab_type": "text"
      },
      "source": [
        "pip install pycodestyle\n",
        "\n",
        "pycodestyle testuojamas_failas.py"
      ]
    },
    {
      "cell_type": "markdown",
      "metadata": {
        "id": "p0Q34oAxnBxA",
        "colab_type": "text"
      },
      "source": [
        "PyCharm programoje galima automatiškai sutvarkyti tekstą (iškyrus pvz. eilučių ilgį), paspaudus Ctrl+Alt+L."
      ]
    },
    {
      "cell_type": "markdown",
      "metadata": {
        "id": "BdyebmLspCe9",
        "colab_type": "text"
      },
      "source": [
        "**Užduotis:**\n",
        "\n",
        "*   Įsidiegti norimą PEP8 standarto tikrinimo įrankį, pvz. *pycodestyle*\n",
        "*   Patikrinti visus biudžeto programos failus pagal PEP8 standartą\n",
        "*   Pataisyti pagal tikrinimo įrankio pastabas. Neskubėkite naudoti klaviatūros trumpinio sutvarkymui, nuosekliai išanalizuokite surastus netikslumus ir juos pataisykite.\n",
        "*   Patikrinkite papildomus dalykus, kurių neaptiko PEP8. Galbūt kintamieji, klasės ar metodai neteisingai pavadinti? Galbūt kintamųjų ar klasių pavadinimai nesuprantamai pavadinti. Jei taip, pervadinkite juos naudodami refactor funkciją (pvz. paspauskite ant norimo pakeisti kintamojo klasėje dešiniu pelės klavišu, pasirinkite refactor/rename). Taip pervadinsite iš karto visus kintamojo pavadinimus, o ne tik vienoje vietoje.\n",
        "*   Sukurkite visų biudžeto programos funkcijų, metodų, __init__ metodų aprašymus, kad būtų aišku, ką jie daro, kokius parametrus turi, ką gražina. Jei reikia papildomai pakomentuokite kitas kodo dalis, kad ir kitiems būtų aišku, ką daro konkreti kodo vieta.\n",
        "\n",
        "**Komentavimo pavyzdys:**"
      ]
    },
    {
      "cell_type": "code",
      "metadata": {
        "id": "UQNVG1n-tC4-",
        "colab_type": "code",
        "colab": {
          "base_uri": "https://localhost:8080/",
          "height": 51
        },
        "outputId": "11dc3cc0-b99c-4a70-956b-fbc432e16b2c"
      },
      "source": [
        "class Zmogus:\n",
        "    def __init__(self, vardas):\n",
        "        self.vardas = vardas\n",
        "\n",
        "\n",
        "class ZmogusVoras(Zmogus):\n",
        "    def __init__(self, vardas, kojos):\n",
        "        \"\"\"\n",
        "        Žmogaus Voro objekto, paveldinčio Žmogaus objektą, klasė\n",
        "        :param vardas: nurodo Žmogaus-voro vardą\n",
        "        :param kojos: nurodo Žmogaus-voro kojo kiekį\n",
        "        \"\"\"\n",
        "        self.vardas = vardas\n",
        "        self.kojos = kojos\n",
        "\n",
        "    def eiti(self, greitis):\n",
        "        \"\"\"\n",
        "        Metodas leidžia Žmogui-vorui eiti\n",
        "        :param greitis: nurodo ėjimo greiti\n",
        "        :return: stringas su informacija apie ėjimą\n",
        "        \"\"\"\n",
        "        return f\"Žmogus-voras vardu {self.vardas} eina savo {self.kojos} kojomis {greitis} greičiu.\"\n",
        "\n",
        "\n",
        "zmogus = ZmogusVoras(\"Jonas\", 8)\n",
        "print(zmogus.vardas)\n",
        "print(zmogus.eiti(20))\n"
      ],
      "execution_count": 12,
      "outputs": [
        {
          "output_type": "stream",
          "text": [
            "Jonas\n",
            "Žmogus-voras vardu Jonas eina savo 8 kojomis 20 greičiu.\n"
          ],
          "name": "stdout"
        }
      ]
    }
  ]
}