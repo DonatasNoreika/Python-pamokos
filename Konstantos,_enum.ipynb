{
  "nbformat": 4,
  "nbformat_minor": 0,
  "metadata": {
    "colab": {
      "name": "Konstantos, enum.ipynb",
      "provenance": [],
      "collapsed_sections": []
    },
    "kernelspec": {
      "name": "python3",
      "display_name": "Python 3"
    }
  },
  "cells": [
    {
      "cell_type": "markdown",
      "metadata": {
        "id": "KxnviUQqKuDj",
        "colab_type": "text"
      },
      "source": [
        "**Konstantos:**\n",
        "\n",
        "Python neturi įprastų konstantų, todėl vietoje to tiesiog rašomas kintamasis didžiosiomis raidėmis. Turint omeny, kad tokio kintamojo reikšmės programos nereikėtų keisti:\n"
      ]
    },
    {
      "cell_type": "code",
      "metadata": {
        "id": "WZfQKczF9G0v",
        "colab_type": "code",
        "outputId": "d9edbd8a-04fd-4429-94df-814b725742dc",
        "colab": {
          "base_uri": "https://localhost:8080/",
          "height": 34
        }
      },
      "source": [
        "PI = 3.14\n",
        "GRAVITACIJA = 9.8\n",
        "\n",
        "print(PI)"
      ],
      "execution_count": 0,
      "outputs": [
        {
          "output_type": "stream",
          "text": [
            "3.14\n"
          ],
          "name": "stdout"
        }
      ]
    },
    {
      "cell_type": "markdown",
      "metadata": {
        "id": "k5k1SyBeMM6E",
        "colab_type": "text"
      },
      "source": [
        "**Enum:**\n",
        "\n",
        "Enum – tai konstantų rinkiniai, paprastai apibrėžiami atskirose klasėse, paveldinčiose Enum.\n",
        "\n",
        "Pvz., šiame Enum apibrėžėme savaitės dienas:"
      ]
    },
    {
      "cell_type": "code",
      "metadata": {
        "id": "XxTo2UOhM09i",
        "colab_type": "code",
        "colab": {}
      },
      "source": [
        "from enum import Enum\n",
        "\n",
        "class Savaitė(Enum):\n",
        "  PIRMADIENIS = 1\n",
        "  ANTRADIENIS = 2\n",
        "  TREČIADIENIS = 3\n",
        "  KETVIRTADIENIS = 4\n",
        "  PENKTADIENIS = 5\n",
        "  ŠEŠTADIENIS = 6\n",
        "  SEKMADIENIS = 7"
      ],
      "execution_count": 0,
      "outputs": []
    },
    {
      "cell_type": "code",
      "metadata": {
        "id": "8amfts_yNkLE",
        "colab_type": "code",
        "outputId": "329c6a40-f598-4d88-a4e1-1b8dd7b2ec07",
        "colab": {
          "base_uri": "https://localhost:8080/",
          "height": 34
        }
      },
      "source": [
        "print(Savaitė.PENKTADIENIS)"
      ],
      "execution_count": 0,
      "outputs": [
        {
          "output_type": "stream",
          "text": [
            "Savaitė.PENKTADIENIS\n"
          ],
          "name": "stdout"
        }
      ]
    },
    {
      "cell_type": "code",
      "metadata": {
        "id": "ManN7uTbN8r7",
        "colab_type": "code",
        "outputId": "08e406e2-e9ac-4dfb-d81d-9d37eaafae6b",
        "colab": {
          "base_uri": "https://localhost:8080/",
          "height": 68
        }
      },
      "source": [
        "diena = Savaitė.SEKMADIENIS\n",
        "print(diena)\n",
        "print(diena.name)\n",
        "print(diena.value)"
      ],
      "execution_count": 0,
      "outputs": [
        {
          "output_type": "stream",
          "text": [
            "Savaitė.SEKMADIENIS\n",
            "SEKMADIENIS\n",
            "7\n"
          ],
          "name": "stdout"
        }
      ]
    },
    {
      "cell_type": "markdown",
      "metadata": {
        "id": "qwSQOo09Ogf9",
        "colab_type": "text"
      },
      "source": [
        "**Kaip atspausdinti visas enum reikšmes:**"
      ]
    },
    {
      "cell_type": "code",
      "metadata": {
        "id": "Ur0Byc5pOlKO",
        "colab_type": "code",
        "outputId": "c807bd7c-01aa-4622-9f8f-f1e511e90768",
        "colab": {
          "base_uri": "https://localhost:8080/",
          "height": 54
        }
      },
      "source": [
        "print(list(Savaitė))"
      ],
      "execution_count": 0,
      "outputs": [
        {
          "output_type": "stream",
          "text": [
            "[<Savaitė.PIRMADIENIS: 1>, <Savaitė.ANTRADIENIS: 2>, <Savaitė.TREČIADIENIS: 3>, <Savaitė.KETVIRTADIENIS: 4>, <Savaitė.PENKTADIENIS: 5>, <Savaitė.ŠEŠTADIENIS: 6>, <Savaitė.SEKMADIENIS: 7>]\n"
          ],
          "name": "stdout"
        }
      ]
    },
    {
      "cell_type": "code",
      "metadata": {
        "id": "qqLgE2XmO3qB",
        "colab_type": "code",
        "outputId": "8a7739b0-6959-4611-bc61-41bc9dbb52eb",
        "colab": {
          "base_uri": "https://localhost:8080/",
          "height": 137
        }
      },
      "source": [
        "for x in Savaitė:\n",
        "    print(x.name, x.value)"
      ],
      "execution_count": 0,
      "outputs": [
        {
          "output_type": "stream",
          "text": [
            "PIRMADIENIS 1\n",
            "ANTRADIENIS 2\n",
            "TREČIADIENIS 3\n",
            "KETVIRTADIENIS 4\n",
            "PENKTADIENIS 5\n",
            "ŠEŠTADIENIS 6\n",
            "SEKMADIENIS 7\n"
          ],
          "name": "stdout"
        }
      ]
    },
    {
      "cell_type": "code",
      "metadata": {
        "id": "VudHRiNAPEhq",
        "colab_type": "code",
        "outputId": "81859982-618e-4ddb-c0f1-ef49c560fa80",
        "colab": {
          "base_uri": "https://localhost:8080/",
          "height": 137
        }
      },
      "source": [
        "for key, value in Savaitė.__members__.items():\n",
        "    print(key, value)"
      ],
      "execution_count": 0,
      "outputs": [
        {
          "output_type": "stream",
          "text": [
            "PIRMADIENIS Savaitė.PIRMADIENIS\n",
            "ANTRADIENIS Savaitė.ANTRADIENIS\n",
            "TREČIADIENIS Savaitė.TREČIADIENIS\n",
            "KETVIRTADIENIS Savaitė.KETVIRTADIENIS\n",
            "PENKTADIENIS Savaitė.PENKTADIENIS\n",
            "ŠEŠTADIENIS Savaitė.ŠEŠTADIENIS\n",
            "SEKMADIENIS Savaitė.SEKMADIENIS\n"
          ],
          "name": "stdout"
        }
      ]
    },
    {
      "cell_type": "markdown",
      "metadata": {
        "id": "RRz0fQLOQLtl",
        "colab_type": "text"
      },
      "source": [
        "**Kaip sukurti enum su daugiau reikšmių:**"
      ]
    },
    {
      "cell_type": "code",
      "metadata": {
        "id": "geP55JKIPW-D",
        "colab_type": "code",
        "colab": {}
      },
      "source": [
        "class Menuo(Enum):\n",
        "    SAUSIS = \"Sausis\", 1\n",
        "    VASARIS = \"Vasaris\", 2\n",
        "    KOVAS = \"Kovas\", 3\n",
        "    BALANDIS = \"Balandis\", 4\n",
        "    GEGUŽĖ = \"Gegužė\", 5\n",
        "    BIRŽELIS = \"Birželis\", 6\n",
        "    LIEPA = \"Liepa\", 7\n",
        "    RUGPJŪTIS = \"Rugpjūtis\", 8\n",
        "    RUGSĖJIS = \"Rugsėjis\", 9\n",
        "    SPALIS = \"Spalis\", 10\n",
        "    LAPKRITIS = \"Lapkritis\", 11\n",
        "    GRUODIS = \"Gruodis\", 12"
      ],
      "execution_count": 0,
      "outputs": []
    },
    {
      "cell_type": "code",
      "metadata": {
        "id": "9DnlINTfQNtx",
        "colab_type": "code",
        "outputId": "9d6ce64e-04d9-4f7c-eba1-d83f88efe872",
        "colab": {
          "base_uri": "https://localhost:8080/",
          "height": 34
        }
      },
      "source": [
        "print(Menuo.BIRŽELIS)"
      ],
      "execution_count": 0,
      "outputs": [
        {
          "output_type": "stream",
          "text": [
            "Menuo.BIRŽELIS\n"
          ],
          "name": "stdout"
        }
      ]
    },
    {
      "cell_type": "code",
      "metadata": {
        "id": "gXTN9fu-QXcA",
        "colab_type": "code",
        "outputId": "253747d5-5eca-4be8-862b-169e2bfbee36",
        "colab": {
          "base_uri": "https://localhost:8080/",
          "height": 86
        }
      },
      "source": [
        "menuo = Menuo.GEGUŽĖ\n",
        "print(menuo.name)\n",
        "print(menuo.value)\n",
        "print(menuo.value[0])\n",
        "print(menuo.value[1])"
      ],
      "execution_count": 0,
      "outputs": [
        {
          "output_type": "stream",
          "text": [
            "GEGUŽĖ\n",
            "('Gegužė', 5)\n",
            "Gegužė\n",
            "5\n"
          ],
          "name": "stdout"
        }
      ]
    },
    {
      "cell_type": "markdown",
      "metadata": {
        "id": "MLM7eKqkRpYR",
        "colab_type": "text"
      },
      "source": [
        "**Kaip sukurti enum su automatinėmis reikšmėmis:**"
      ]
    },
    {
      "cell_type": "code",
      "metadata": {
        "id": "cfarqR5AR-ea",
        "colab_type": "code",
        "colab": {}
      },
      "source": [
        "from enum import Enum, auto\n",
        "\n",
        "class Spalva(Enum):\n",
        "  JUODA = auto()\n",
        "  BALTA = auto()\n",
        "  RAUDONA = auto()\n",
        "  ŽALIA = auto()\n",
        "  GELTONA = auto()\n",
        "  MĖLYNA = auto()"
      ],
      "execution_count": 0,
      "outputs": []
    },
    {
      "cell_type": "code",
      "metadata": {
        "id": "nonTk22sSWtR",
        "colab_type": "code",
        "outputId": "eaa010b2-1007-455a-a91d-ed667698dc73",
        "colab": {
          "base_uri": "https://localhost:8080/",
          "height": 69
        }
      },
      "source": [
        "spalva = Spalva.RAUDONA\n",
        "print(spalva)\n",
        "print(spalva.name)\n",
        "print(spalva.value)"
      ],
      "execution_count": 5,
      "outputs": [
        {
          "output_type": "stream",
          "text": [
            "Spalva.RAUDONA\n",
            "RAUDONA\n",
            "3\n"
          ],
          "name": "stdout"
        }
      ]
    },
    {
      "cell_type": "markdown",
      "metadata": {
        "id": "JNlbxxea7h-k",
        "colab_type": "text"
      },
      "source": [
        "**Kaip sukurti enum su unikaliomis reikšmėmis:**"
      ]
    },
    {
      "cell_type": "code",
      "metadata": {
        "id": "I4OSBq3g7plY",
        "colab_type": "code",
        "colab": {
          "base_uri": "https://localhost:8080/",
          "height": 35
        },
        "outputId": "081bf1d2-e86a-4cfa-e86b-5e68d5b2e030"
      },
      "source": [
        "from enum import Enum, auto, unique\n",
        "\n",
        "class Neunikalus(Enum):\n",
        "  VIENAS = 1\n",
        "  DU = 2\n",
        "  DARDU = 2\n",
        "\n",
        "print(2)\n"
      ],
      "execution_count": 82,
      "outputs": [
        {
          "output_type": "stream",
          "text": [
            "2\n"
          ],
          "name": "stdout"
        }
      ]
    },
    {
      "cell_type": "code",
      "metadata": {
        "id": "YCbOcml88iJC",
        "colab_type": "code",
        "colab": {
          "base_uri": "https://localhost:8080/",
          "height": 377
        },
        "outputId": "8f8e054a-f568-4dcb-a393-d6a60bb68a0d"
      },
      "source": [
        "from enum import Enum, auto, unique\n",
        "\n",
        "@unique\n",
        "class Neunikalus(Enum):\n",
        "  VIENAS = 1\n",
        "  DU = 2\n",
        "  DARDU = 2"
      ],
      "execution_count": 81,
      "outputs": [
        {
          "output_type": "error",
          "ename": "ValueError",
          "evalue": "ignored",
          "traceback": [
            "\u001b[0;31m---------------------------------------------------------------------------\u001b[0m",
            "\u001b[0;31mValueError\u001b[0m                                Traceback (most recent call last)",
            "\u001b[0;32m<ipython-input-81-fa07dc910537>\u001b[0m in \u001b[0;36m<module>\u001b[0;34m()\u001b[0m\n\u001b[1;32m      2\u001b[0m \u001b[0;34m\u001b[0m\u001b[0m\n\u001b[1;32m      3\u001b[0m \u001b[0;34m@\u001b[0m\u001b[0munique\u001b[0m\u001b[0;34m\u001b[0m\u001b[0;34m\u001b[0m\u001b[0m\n\u001b[0;32m----> 4\u001b[0;31m \u001b[0;32mclass\u001b[0m \u001b[0mNeunikalus\u001b[0m\u001b[0;34m(\u001b[0m\u001b[0mEnum\u001b[0m\u001b[0;34m)\u001b[0m\u001b[0;34m:\u001b[0m\u001b[0;34m\u001b[0m\u001b[0;34m\u001b[0m\u001b[0m\n\u001b[0m\u001b[1;32m      5\u001b[0m   \u001b[0mVIENAS\u001b[0m \u001b[0;34m=\u001b[0m \u001b[0;36m1\u001b[0m\u001b[0;34m\u001b[0m\u001b[0;34m\u001b[0m\u001b[0m\n\u001b[1;32m      6\u001b[0m   \u001b[0mDU\u001b[0m \u001b[0;34m=\u001b[0m \u001b[0;36m2\u001b[0m\u001b[0;34m\u001b[0m\u001b[0;34m\u001b[0m\u001b[0m\n",
            "\u001b[0;32m/usr/lib/python3.6/enum.py\u001b[0m in \u001b[0;36munique\u001b[0;34m(enumeration)\u001b[0m\n\u001b[1;32m    834\u001b[0m                 [\"%s -> %s\" % (alias, name) for (alias, name) in duplicates])\n\u001b[1;32m    835\u001b[0m         raise ValueError('duplicate values found in %r: %s' %\n\u001b[0;32m--> 836\u001b[0;31m                 (enumeration, alias_details))\n\u001b[0m\u001b[1;32m    837\u001b[0m     \u001b[0;32mreturn\u001b[0m \u001b[0menumeration\u001b[0m\u001b[0;34m\u001b[0m\u001b[0;34m\u001b[0m\u001b[0m\n\u001b[1;32m    838\u001b[0m \u001b[0;34m\u001b[0m\u001b[0m\n",
            "\u001b[0;31mValueError\u001b[0m: duplicate values found in <enum 'Neunikalus'>: DARDU -> DU"
          ]
        }
      ]
    },
    {
      "cell_type": "markdown",
      "metadata": {
        "id": "RiZTRL0IzwK7",
        "colab_type": "text"
      },
      "source": [
        "**Enum panaudojimo įvedime pavyzdys:**"
      ]
    },
    {
      "cell_type": "code",
      "metadata": {
        "id": "k04mXqYUzTWe",
        "colab_type": "code",
        "colab": {
          "base_uri": "https://localhost:8080/",
          "height": 104
        },
        "outputId": "77c5558c-3605-4ed3-cc30-2b7b4dfd237d"
      },
      "source": [
        "class Veiksmas(Enum):\n",
        "  ĮVESTI = 1\n",
        "  ATSPAUSDINTI = 2\n",
        "  IŠEITI = 3\n",
        "\n",
        "\n",
        "def atlikti_veiksma(veiksmas: Veiksmas):\n",
        "  print(f\"Veiksmas įvykdytas: {veiksmas.name}\")\n",
        "  # print(f\"Veiksmas {veiksmas.value{[0]}}\")\n",
        "  \n",
        "\n",
        "# Įvedimas ir funkcijos kvietimas:\n",
        "for veiksmas in Veiksmas:\n",
        "  print(f\"{veiksmas.value} - {veiksmas.name}\")\n",
        "\n",
        "ivesta = int(input(\"Pasirinkite veiksmą: \"))\n",
        "atlikti_veiksma(Veiksmas(ivesta))"
      ],
      "execution_count": 85,
      "outputs": [
        {
          "output_type": "stream",
          "text": [
            "1 - ĮVESTI\n",
            "2 - ATSPAUSDINTI\n",
            "3 - IŠEITI\n",
            "Pasirinkite veiksmą: 2\n",
            "Veiksmas įvykdytas: ATSPAUSDINTI\n"
          ],
          "name": "stdout"
        }
      ]
    },
    {
      "cell_type": "markdown",
      "metadata": {
        "id": "iVQw_KDfnnlH",
        "colab_type": "text"
      },
      "source": [
        "**Užduotis:**\n",
        "\n",
        "Perdaryti biudžeto programą taip, kad vietoje įprastų pajamų ir išlaidų kintamųjų, būtų naudojami enum (jei nenorite gadinti jau veikiančios programos, pasidarykite kopiją, arba tiesiog naudokite github :)\n",
        "\n"
      ]
    }
  ]
}